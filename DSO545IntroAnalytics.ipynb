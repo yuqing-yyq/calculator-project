{
  "cells": [
    {
      "cell_type": "markdown",
      "id": "79cb139c",
      "metadata": {
        "id": "79cb139c"
      },
      "source": [
        "<h1>What is data?</h1>\n",
        "<br>\n",
        "<font size=\"+1\">\n",
        "    <ul>\n",
        "        <li>Loosely speaking, we can think of data as a collection of quantitative or qualitative values of variables used to summarize or characterize information.</li>\n",
        "        <br>\n",
        "        <br>\n",
        "        <li>Data can come in many different formats such as:</li>\n",
        "        <br>\n",
        "        <ul>\n",
        "            <li>Excel spreadsheets</li>\n",
        "            <br>\n",
        "            <li>CSV files</li>\n",
        "            <br>\n",
        "            <li>XML</li>\n",
        "            <br>\n",
        "            <li>JSON</li>\n",
        "            <br>\n",
        "            <li>etc.</li>\n",
        "            <br>\n",
        "        </ul>\n",
        "    </ul>\n",
        "<font>"
      ]
    },
    {
      "cell_type": "markdown",
      "id": "00fa0bfe",
      "metadata": {
        "id": "00fa0bfe"
      },
      "source": [
        "<h2>Descriptive Analytics</h2>\n",
        "<br>\n",
        "<font size=\"+1\">\n",
        "    <ul>\n",
        "        <li>This component of the analytics stack is related to the</li>\n",
        "        <br>\n",
        "        <ul>\n",
        "            <li>collecting,</li>\n",
        "            <br>\n",
        "            <li>wrangling and exploring,</li>\n",
        "            <br>\n",
        "            <li>and visualization of data.</li>\n",
        "            <br>\n",
        "        </ul>\n",
        "        <li>This is just a rebranding of exploratory data analysis, both manual and algorithmic.</li>\n",
        "        <br>\n",
        "        <li>It is primarily used to find patterns and derive insights from studying the data.</li>\n",
        "        <br>\n",
        "        <li>It is also an imperative step for predictive analytics because insights derived during the exploratory phase can help guide modeling decisions when trying to predict targets.</li>\n",
        "        <br>\n",
        "    </ul>\n",
        "</font>"
      ]
    },
    {
      "cell_type": "markdown",
      "id": "7fdf4672",
      "metadata": {
        "id": "7fdf4672"
      },
      "source": [
        "<h2>Predictive Analytics</h2>\n",
        "<br>\n",
        "<font size=\"+1\">\n",
        "    <ul>\n",
        "        <li>This component of the analytics stack is related to the</li>\n",
        "        <br>\n",
        "        <ul>\n",
        "            <li>predicting,</li>\n",
        "            <br>\n",
        "            <li>forecasting,</li>\n",
        "            <br>\n",
        "            <li>and classification of a target variable from a set of predictor variables (covariates).</li>\n",
        "            <br>\n",
        "        </ul>\n",
        "        <li>This is just a rebranding of machine learning, and it is one place where algorithms have really shined.</li>\n",
        "        <br>\n",
        "        <li>It is primarily used to find signals and decide how to best model the target in order to predict the target as precisely as possible.</li>\n",
        "        <br>\n",
        "        <li>It is also an imperative step for prescriptive analytics because given one can predict a target variable, businesses must decide how to best use that prediction to optimize the outcome of some business objective, say profits.</li>\n",
        "        <br>\n",
        "    </ul>\n",
        "</font>"
      ]
    },
    {
      "cell_type": "markdown",
      "id": "f5840283",
      "metadata": {
        "id": "f5840283"
      },
      "source": [
        "<h2>Prescriptive Analytics</h2>\n",
        "<br>\n",
        "<font size=\"+1\">\n",
        "    <ul>\n",
        "        <li>This component of the analytics stack is related to the</li>\n",
        "        <br>\n",
        "        <ul>\n",
        "            <li>modeling of business objectives and constraints,</li>\n",
        "            <br>\n",
        "            <li>simulation of different business decisions,</li>\n",
        "            <br>\n",
        "            <li>and optimization of the model to find optimal decisions whose efficacy can be analyzed.</li>\n",
        "            <br>\n",
        "        </ul>\n",
        "        <li>This is just a rebranding of optimization, and it is one place where algorithms have had some success, but still needs a lot of improvement due to the noisy prediction estimates.</li>\n",
        "        <br>\n",
        "        <li>It answers the primary question of</li>\n",
        "        <br>\n",
        "        <ul>\n",
        "            <li>so you can predict some stuff, how can we use those predictions to make better decisions about our company?</li>\n",
        "            <br>\n",
        "        </ul>\n",
        "        <li>It is particularly on the forefront of cutting-edge research, and it relies heavily on the success of descriptive and predictive analytics.</li>\n",
        "        <br>\n",
        "    </ul>\n",
        "</font>"
      ]
    },
    {
      "cell_type": "markdown",
      "id": "185f7cbc",
      "metadata": {
        "hidden": true,
        "id": "185f7cbc"
      },
      "source": [
        "<h2 style=\"color:orange\">Business Operations and Predictive Analytics</h2>\n",
        "<br>\n",
        "<font size=\"+1\" style=\"color:orange\">\n",
        "        <li>Business analytics is applied across the the board of business functions including: OPERATIONS, MARKETING, CLIENT SERVICES, PRODUCT DEVELOPMENT, and STRATEGIC PLANNING.</li>\n",
        "        <br>\n",
        "        <li>Who uses analytics? Client facing businesses including Amazon, Google, American Express, Disney, etc. Recent startups including Palantir and Splunk are based on the application of analytics to large databases and are business facing companies.</li>\n",
        "        <br>\n",
        "        <li>We would like to learn analytic techniques used to investigate a VALUE ADD to a business. We want to analyze case studies on organizations that have successfully deployed these techniques.</li>\n",
        "        <br>\n",
        "        <li>We emphasize that analytics isn't a theoretical discipline. Techniques are only interesting to the extent that they might ADD VALUE.</li>\n",
        "        <br>\n",
        "        <li>Analytics is comprised of DATA and OPTIMIZATION.</li>\n",
        "        <br>\n",
        "        <li>DATA is used to develop insights and predictive capabilities (this is the subject of DSO 459).</li>\n",
        "        <br>\n",
        "        <li>OPTIMIZATION is used to support decision making in the presence of business constraints that makes use of insights and predictions from DATA (this is more the subject of DSO 499).</li>\n",
        "        <br>\n",
        "</font>"
      ]
    }
  ],
  "metadata": {
    "hide_input": false,
    "kernelspec": {
      "display_name": "Python 3",
      "language": "python",
      "name": "python3"
    },
    "language_info": {
      "codemirror_mode": {
        "name": "ipython",
        "version": 3
      },
      "file_extension": ".py",
      "mimetype": "text/x-python",
      "name": "python",
      "nbconvert_exporter": "python",
      "pygments_lexer": "ipython3",
      "version": "3.8.8"
    },
    "toc": {
      "base_numbering": 1,
      "nav_menu": {},
      "number_sections": true,
      "sideBar": true,
      "skip_h1_title": false,
      "title_cell": "Table of Contents",
      "title_sidebar": "Contents",
      "toc_cell": true,
      "toc_position": {
        "height": "calc(100% - 180px)",
        "left": "10px",
        "top": "150px",
        "width": "272.944px"
      },
      "toc_section_display": true,
      "toc_window_display": true
    },
    "colab": {
      "provenance": []
    }
  },
  "nbformat": 4,
  "nbformat_minor": 5
}